{
 "cells": [
  {
   "cell_type": "code",
   "execution_count": 14,
   "id": "bf1a46e3",
   "metadata": {},
   "outputs": [
    {
     "name": "stdout",
     "output_type": "stream",
     "text": [
      "[('bluenote@googlemail.com', 'Artes', 'sharon', 27), ('parillaexquesita@vip.com', 'arquitectura', 'giulia', 26), ('lollipopbusiness@vip.com', 'contaduria', 'Rosana', 60), ('solfernandez@googlemail.com', 'estadistica', 'Sol', 30), ('carlitos@googlemail.com', 'computacion', 'Carlos', 60), ('imprentadetata@vip.com', 'periodismo', 'Luciano', 21), ('(paella@vip.com', 'Medicina', 'Giuliana', 27), ('(crimewave@vip.com', 'Derecho', 'Alicia', 20), ('(prince@orange.com', 'Ingenieria', 'William', 24), ('(elrisortdewelini@vip.com', 'Nutrición', 'Chefsito', 25), ('(planb@vip.com', 'Artes', 'Chencho', 30), ('(channel@boyz.com', 'Letras', 'Frank', 32), ('(vinos@aouju.com', 'Nutrición', 'Eugenia', 23)]\n"
     ]
    }
   ],
   "source": [
    "import sqlite3\n",
    "import csv \n",
    "\n",
    "conexion = sqlite3.connect(r\"C:\\Users\\Iker\\base2.db\")\n",
    "cursor = conexion.cursor()\n",
    "                          \n",
    "archivo = open(r\"C:\\Users\\Iker\\008 datos_db.txt\")\n",
    "                          \n",
    "filas = csv.reader(archivo)\n",
    "                          \n",
    "cursor.executemany(\"INSERT INTO estudiantes VALUES (?,?,?,?)\", filas)\n",
    "            \n",
    "cursor.execute(\"SELECT *FROM estudiantes\")\n",
    "print(cursor.fetchall())\n",
    "                          \n",
    "conexion.commit()\n",
    "conexion.close()"
   ]
  },
  {
   "cell_type": "code",
   "execution_count": null,
   "id": "0de176a9",
   "metadata": {},
   "outputs": [],
   "source": []
  }
 ],
 "metadata": {
  "kernelspec": {
   "display_name": "Python 3",
   "language": "python",
   "name": "python3"
  },
  "language_info": {
   "codemirror_mode": {
    "name": "ipython",
    "version": 3
   },
   "file_extension": ".py",
   "mimetype": "text/x-python",
   "name": "python",
   "nbconvert_exporter": "python",
   "pygments_lexer": "ipython3",
   "version": "3.8.8"
  }
 },
 "nbformat": 4,
 "nbformat_minor": 5
}
