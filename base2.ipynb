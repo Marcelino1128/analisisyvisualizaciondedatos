{
 "cells": [
  {
   "cell_type": "code",
   "execution_count": 1,
   "id": "1e99e84a",
   "metadata": {},
   "outputs": [],
   "source": [
    "import sqlite3"
   ]
  },
  {
   "cell_type": "code",
   "execution_count": 3,
   "id": "4bfc001f",
   "metadata": {},
   "outputs": [],
   "source": [
    "conexion  = sqlite3.connect(\"base2.db\")\n",
    "cursor = conexion.cursor()\n",
    "\n",
    "cursor.execute(\"CREATE TABLE estudiantes (email VARCHAR(100), carrera VARCHAR(100), nombre VARCHAR(100), edad INTEGER)\" ) \n",
    "\n",
    "conexion.close()"
   ]
  },
  {
   "cell_type": "code",
   "execution_count": 4,
   "id": "d87d26a1",
   "metadata": {},
   "outputs": [],
   "source": [
    "conexion = sqlite3.connect(\"base2.db\")\n",
    "\n",
    "cursor = conexion.cursor()\n",
    "\n",
    "cursor.execute(\"INSERT INTO estudiantes VALUES ('bluenote@googlemail.com','Artes', 'sharon', 27)\")\n",
    "\n",
    "conexion.commit()\n",
    "\n",
    "conexion.close()"
   ]
  },
  {
   "cell_type": "code",
   "execution_count": 5,
   "id": "b705e8c4",
   "metadata": {},
   "outputs": [
    {
     "name": "stdout",
     "output_type": "stream",
     "text": [
      "('bluenote@googlemail.com', 'Artes', 'sharon', 27)\n"
     ]
    }
   ],
   "source": [
    "conexion = sqlite3.connect(\"base2.db\")\n",
    "\n",
    "cursor = conexion.cursor()\n",
    "\n",
    "cursor.execute(\"SELECT * FROM estudiantes\")\n",
    "\n",
    "usuarios = cursor.fetchone()\n",
    "print(usuarios)"
   ]
  },
  {
   "cell_type": "code",
   "execution_count": 6,
   "id": "b238a295",
   "metadata": {},
   "outputs": [],
   "source": [
    "conexion = sqlite3.connect('base2.db')\n",
    "\n",
    "cursor = conexion.cursor()\n",
    "\n",
    "usuarios = [\n",
    "    ('parillaexquesita@vip.com','arquitectura','giulia', 26),\n",
    "    ('lollipopbusiness@vip.com','contaduria','Rosana', 60),\n",
    "    ('solfernandez@googlemail.com','estadistica','Sol', 30),\n",
    "    ('carlitos@googlemail.com','computacion','Carlos', 60),\n",
    "    ('imprentadetata@vip.com','periodismo','Luciano', 21),\n",
    "    \n",
    "]\n",
    "\n",
    "cursor.executemany(\"INSERT INTO estudiantes VALUES (?,?,?,?)\", usuarios)\n",
    "\n",
    "conexion.commit()\n",
    "\n",
    "conexion.close()"
   ]
  },
  {
   "cell_type": "code",
   "execution_count": null,
   "id": "24248210",
   "metadata": {},
   "outputs": [],
   "source": []
  }
 ],
 "metadata": {
  "kernelspec": {
   "display_name": "Python 3",
   "language": "python",
   "name": "python3"
  },
  "language_info": {
   "codemirror_mode": {
    "name": "ipython",
    "version": 3
   },
   "file_extension": ".py",
   "mimetype": "text/x-python",
   "name": "python",
   "nbconvert_exporter": "python",
   "pygments_lexer": "ipython3",
   "version": "3.8.8"
  }
 },
 "nbformat": 4,
 "nbformat_minor": 5
}
